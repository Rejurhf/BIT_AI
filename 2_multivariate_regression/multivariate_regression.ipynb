{
 "cells": [
  {
   "cell_type": "markdown",
   "metadata": {},
   "source": [
    "# Multivariate Linear Regression"
   ]
  },
  {
   "cell_type": "markdown",
   "metadata": {},
   "source": [
    "## Welcome!\n",
    "\n",
    "Today we're going to talk some more about last-time's topic - **Linear Regression** in a more generalized way. \n",
    "\n",
    "You'll see that with just a few changes, we will be able to apply Linear Regression model to problems much more interesting than plotting straight lines!"
   ]
  },
  {
   "cell_type": "code",
   "execution_count": 2,
   "metadata": {},
   "outputs": [
    {
     "name": "stdout",
     "output_type": "stream",
     "text": [
      "The autoreload extension is already loaded. To reload it, use:\n",
      "  %reload_ext autoreload\n"
     ]
    }
   ],
   "source": [
    "# imports\n",
    "import sys\n",
    "import numpy as np\n",
    "import matplotlib.pyplot as plt\n",
    "import ipywidgets as widgets\n",
    "from ipywidgets import interact, fixed\n",
    "import solutions\n",
    "import importlib.util\n",
    "import pandas as pd\n",
    "import sklearn as sk\n",
    "from typing import Tuple, Optional, List\n",
    "\n",
    "\n",
    "%load_ext autoreload\n",
    "%autoreload 2\n",
    "%matplotlib inline"
   ]
  },
  {
   "cell_type": "markdown",
   "metadata": {},
   "source": [
    "## Previously\n",
    "\n",
    "### $$y = w_0 + w_1 \\cdot x$$\n",
    "\n"
   ]
  },
  {
   "cell_type": "code",
   "execution_count": 3,
   "metadata": {},
   "outputs": [
    {
     "data": {
      "text/plain": [
       "<matplotlib.collections.PathCollection at 0x7f9e17597a58>"
      ]
     },
     "execution_count": 3,
     "metadata": {},
     "output_type": "execute_result"
    },
    {
     "data": {
      "image/png": "[encoded data removed]",
      "text/plain": [
       "<Figure size 432x288 with 1 Axes>"
      ]
     },
     "metadata": {
      "needs_background": "light"
     },
     "output_type": "display_data"
    }
   ],
   "source": [
    "X = solutions.X_1\n",
    "Y = solutions.Y_1\n",
    "\n",
    "plt.scatter(X, Y)"
   ]
  },
  {
   "cell_type": "markdown",
   "metadata": {},
   "source": [
    "* we want to find the optimal $(w_0, w_1)$ - our **model**\n",
    "\n",
    "* our model will be able to make a **hypothesis**\n",
    "\n",
    "### $$ h_W(x) = w_0 + w_1 \\cdot x$$\n",
    "\n",
    "* a **loss function** lets as calculate how well our model **fits** the data. In this case, the loss function could look like this:\n",
    "\n",
    "### $$L_{prev} = \\frac{1}{N}\\sum_{i=0}^N(h_W(x^{(i)}) - y^{(i)})^2 $$\n",
    " \n",
    " Though it's good enough for our purposes, we'll divide loss function by 2 - it won't change anything about it illustrating the quality of the model, but will simplify latter computations (can you guess how?)\n",
    " \n",
    "### $$L = \\frac{1}{2N}\\sum_{i=0}^N(h_W(x^{(i)}) - y^{(i)})^2 $$\n",
    "\n",
    "* We can find $(w_0, w_1)$ by using **Gradient Descent** method. \n",
    "\n",
    "* If we calculate gradients of $L$ with respect to $(w_0, w_1)$, or $\\dfrac{\\partial L}{\\partial w_0}$ and $\\dfrac{\\partial L}{\\partial w_1}$, we will know how to shift the values of $(w_0, w_1)$, so that they will fit the data better.\n",
    "\n",
    "### $$\n",
    "\\dfrac{\\partial L}{\\partial w_0} = \\dfrac{\\sum_{i=0}^n w_0 + w_1 x^{(i)} - y^{(i)}}{n} \\\\\n",
    "\\dfrac{\\partial L}{\\partial w_1} =  \\dfrac{\\sum_{i=0}^n (w_0 + w_1 x^{(i)} - y^{(i)}) \\cdot x^{(i)}}{n}\n",
    "$$\n",
    "\n",
    "![The idea of Gradient Descent](../1_regression/img/gradient_descent_0.png)\n",
    "\n",
    "* We multiply the gradients by a **learning rate** $\\alpha$, so that the updates are small and don't overshoot their objective.\n",
    "\n",
    "### $$\n",
    "w_0 = w_0 - \\dfrac{\\partial L}{\\partial w_0} \\cdot \\alpha \\\\\n",
    "w_1 = w_1 - \\dfrac{\\partial L}{\\partial w_1} \\cdot \\alpha\n",
    "$$\n",
    "* We repeat that process for an arbitrary number of **epochs**\n",
    "\n",
    "![Learning rates](../1_regression/img/learning_rate.png)"
   ]
  },
  {
   "cell_type": "code",
   "execution_count": 4,
   "metadata": {},
   "outputs": [],
   "source": [
    "spec = importlib.util.spec_from_file_location(\n",
    "    \"solutions\", \n",
    "    \"../1_regression/solutions.py\"\n",
    ")\n",
    "solutions_1 = importlib.util.module_from_spec(spec)\n",
    "spec.loader.exec_module(solutions_1)"
   ]
  },
  {
   "cell_type": "code",
   "execution_count": 9,
   "metadata": {},
   "outputs": [
    {
     "data": {
      "image/png": "[encoded data removed]",
      "text/plain": [
       "<Figure size 432x288 with 1 Axes>"
      ]
     },
     "metadata": {
      "needs_background": "light"
     },
     "output_type": "display_data"
    }
   ],
   "source": [
    "init_w_0 = np.random.rand()\n",
    "init_w_1 = np.random.rand()\n",
    "learning_rate = 0.01\n",
    "num_iterations = 100\n",
    "\n",
    "trained_w_0, trained_w_1, loss_history = \\\n",
    "    solutions_1.train_model(init_w_0, init_w_1, X, Y, learning_rate, num_iterations)\n",
    "\n",
    "plt.plot(list(range(num_iterations)), loss_history)\n",
    "plt.show()"
   ]
  },
  {
   "cell_type": "code",
   "execution_count": 6,
   "metadata": {},
   "outputs": [
    {
     "data": {
      "image/png": "[encoded data removed]",
      "text/plain": [
       "<Figure size 432x288 with 1 Axes>"
      ]
     },
     "metadata": {
      "needs_background": "light"
     },
     "output_type": "display_data"
    },
    {
     "name": "stdout",
     "output_type": "stream",
     "text": [
      "w_0: 1.8920591669070734\n",
      "w_1: 2.3859424813275676\n",
      "Loss: 1.0801745708387023\n"
     ]
    }
   ],
   "source": [
    "Y_pred = trained_w_0 + trained_w_1 * X \n",
    "plt.scatter(X, Y)\n",
    "plt.plot(X, Y_pred, 'r')\n",
    "plt.show()\n",
    "print('w_0:', trained_w_0)\n",
    "print('w_1:', trained_w_1)\n",
    "print('Loss:', solutions_1.my_loss_vectorized(trained_w_0, trained_w_1, X, Y))"
   ]
  },
  {
   "cell_type": "markdown",
   "metadata": {},
   "source": [
    "## Now let's go bigger!\n",
    "\n",
    "Today, we'll apply linear regression to real-life data!"
   ]
  },
  {
   "cell_type": "code",
   "execution_count": 10,
   "metadata": {},
   "outputs": [
    {
     "name": "stdout",
     "output_type": "stream",
     "text": [
      "Boston House Prices dataset\n",
      "===========================\n",
      "\n",
      "Notes\n",
      "------\n",
      "Data Set Characteristics:  \n",
      "\n",
      "    :Number of Instances: 506 \n",
      "\n",
      "    :Number of Attributes: 13 numeric/categorical predictive\n",
      "    \n",
      "    :Median Value (attribute 14) is usually the target\n",
      "\n",
      "    :Attribute Information (in order):\n",
      "        - CRIM     per capita crime rate by town\n",
      "        - ZN       proportion of residential land zoned for lots over 25,000 sq.ft.\n",
      "        - INDUS    proportion of non-retail business acres per town\n",
      "        - CHAS     Charles River dummy variable (= 1 if tract bounds river; 0 otherwise)\n",
      "        - NOX      nitric oxides concentration (parts per 10 million)\n",
      "        - RM       average number of rooms per dwelling\n",
      "        - AGE      proportion of owner-occupied units built prior to 1940\n",
      "        - DIS      weighted distances to five Boston employment centres\n",
      "        - RAD      index of accessibility to radial highways\n",
      "        - TAX      full-value property-tax rate per $10,000\n",
      "        - PTRATIO  pupil-teacher ratio by town\n",
      "        - B        1000(Bk - 0.63)^2 where Bk is the proportion of blacks by town\n",
      "        - LSTAT    % lower status of the population\n",
      "        - MEDV     Median value of owner-occupied homes in $1000's\n",
      "\n",
      "    :Missing Attribute Values: None\n",
      "\n",
      "    :Creator: Harrison, D. and Rubinfeld, D.L.\n",
      "\n",
      "This is a copy of UCI ML housing dataset.\n",
      "http://archive.ics.uci.edu/ml/datasets/Housing\n",
      "\n",
      "\n",
      "This dataset was taken from the StatLib library which is maintained at Carnegie Mellon University.\n",
      "\n",
      "The Boston house-price data of Harrison, D. and Rubinfeld, D.L. 'Hedonic\n",
      "prices and the demand for clean air', J. Environ. Economics & Management,\n",
      "vol.5, 81-102, 1978.   Used in Belsley, Kuh & Welsch, 'Regression diagnostics\n",
      "...', Wiley, 1980.   N.B. Various transformations are used in the table on\n",
      "pages 244-261 of the latter.\n",
      "\n",
      "The Boston house-price data has been used in many machine learning papers that address regression\n",
      "problems.   \n",
      "     \n",
      "**References**\n",
      "\n",
      "   - Belsley, Kuh & Welsch, 'Regression diagnostics: Identifying Influential Data and Sources of Collinearity', Wiley, 1980. 244-261.\n",
      "   - Quinlan,R. (1993). Combining Instance-Based and Model-Based Learning. In Proceedings on the Tenth International Conference of Machine Learning, 236-243, University of Massachusetts, Amherst. Morgan Kaufmann.\n",
      "   - many more! (see http://archive.ics.uci.edu/ml/datasets/Housing)\n",
      "\n"
     ]
    }
   ],
   "source": [
    "from sklearn.datasets import load_boston\n",
    "dataset = load_boston()\n",
    "print(dataset.DESCR)"
   ]
  },
  {
   "cell_type": "code",
   "execution_count": 11,
   "metadata": {},
   "outputs": [
    {
     "data": {
      "text/html": [
       "<div>\n",
       "<style scoped>\n",
       "    .dataframe tbody tr th:only-of-type {\n",
       "        vertical-align: middle;\n",
       "    }\n",
       "\n",
       "    .dataframe tbody tr th {\n",
       "        vertical-align: top;\n",
       "    }\n",
       "\n",
       "    .dataframe thead th {\n",
       "        text-align: right;\n",
       "    }\n",
       "</style>\n",
       "<table border=\"1\" class=\"dataframe\">\n",
       "  <thead>\n",
       "    <tr style=\"text-align: right;\">\n",
       "      <th></th>\n",
       "      <th>CRIM</th>\n",
       "      <th>ZN</th>\n",
       "      <th>INDUS</th>\n",
       "      <th>CHAS</th>\n",
       "      <th>NOX</th>\n",
       "      <th>RM</th>\n",
       "      <th>AGE</th>\n",
       "      <th>DIS</th>\n",
       "      <th>RAD</th>\n",
       "      <th>TAX</th>\n",
       "      <th>PTRATIO</th>\n",
       "      <th>B</th>\n",
       "      <th>LSTAT</th>\n",
       "      <th>target</th>\n",
       "    </tr>\n",
       "  </thead>\n",
       "  <tbody>\n",
       "    <tr>\n",
       "      <th>0</th>\n",
       "      <td>0.00632</td>\n",
       "      <td>18.0</td>\n",
       "      <td>2.31</td>\n",
       "      <td>0.0</td>\n",
       "      <td>0.538</td>\n",
       "      <td>6.575</td>\n",
       "      <td>65.2</td>\n",
       "      <td>4.0900</td>\n",
       "      <td>1.0</td>\n",
       "      <td>296.0</td>\n",
       "      <td>15.3</td>\n",
       "      <td>396.90</td>\n",
       "      <td>4.98</td>\n",
       "      <td>24.0</td>\n",
       "    </tr>\n",
       "    <tr>\n",
       "      <th>1</th>\n",
       "      <td>0.02731</td>\n",
       "      <td>0.0</td>\n",
       "      <td>7.07</td>\n",
       "      <td>0.0</td>\n",
       "      <td>0.469</td>\n",
       "      <td>6.421</td>\n",
       "      <td>78.9</td>\n",
       "      <td>4.9671</td>\n",
       "      <td>2.0</td>\n",
       "      <td>242.0</td>\n",
       "      <td>17.8</td>\n",
       "      <td>396.90</td>\n",
       "      <td>9.14</td>\n",
       "      <td>21.6</td>\n",
       "    </tr>\n",
       "    <tr>\n",
       "      <th>2</th>\n",
       "      <td>0.02729</td>\n",
       "      <td>0.0</td>\n",
       "      <td>7.07</td>\n",
       "      <td>0.0</td>\n",
       "      <td>0.469</td>\n",
       "      <td>7.185</td>\n",
       "      <td>61.1</td>\n",
       "      <td>4.9671</td>\n",
       "      <td>2.0</td>\n",
       "      <td>242.0</td>\n",
       "      <td>17.8</td>\n",
       "      <td>392.83</td>\n",
       "      <td>4.03</td>\n",
       "      <td>34.7</td>\n",
       "    </tr>\n",
       "    <tr>\n",
       "      <th>3</th>\n",
       "      <td>0.03237</td>\n",
       "      <td>0.0</td>\n",
       "      <td>2.18</td>\n",
       "      <td>0.0</td>\n",
       "      <td>0.458</td>\n",
       "      <td>6.998</td>\n",
       "      <td>45.8</td>\n",
       "      <td>6.0622</td>\n",
       "      <td>3.0</td>\n",
       "      <td>222.0</td>\n",
       "      <td>18.7</td>\n",
       "      <td>394.63</td>\n",
       "      <td>2.94</td>\n",
       "      <td>33.4</td>\n",
       "    </tr>\n",
       "    <tr>\n",
       "      <th>4</th>\n",
       "      <td>0.06905</td>\n",
       "      <td>0.0</td>\n",
       "      <td>2.18</td>\n",
       "      <td>0.0</td>\n",
       "      <td>0.458</td>\n",
       "      <td>7.147</td>\n",
       "      <td>54.2</td>\n",
       "      <td>6.0622</td>\n",
       "      <td>3.0</td>\n",
       "      <td>222.0</td>\n",
       "      <td>18.7</td>\n",
       "      <td>396.90</td>\n",
       "      <td>5.33</td>\n",
       "      <td>36.2</td>\n",
       "    </tr>\n",
       "  </tbody>\n",
       "</table>\n",
       "</div>"
      ],
      "text/plain": [
       "      CRIM    ZN  INDUS  CHAS    NOX     RM   AGE     DIS  RAD    TAX  \\\n",
       "0  0.00632  18.0   2.31   0.0  0.538  6.575  65.2  4.0900  1.0  296.0   \n",
       "1  0.02731   0.0   7.07   0.0  0.469  6.421  78.9  4.9671  2.0  242.0   \n",
       "2  0.02729   0.0   7.07   0.0  0.469  7.185  61.1  4.9671  2.0  242.0   \n",
       "3  0.03237   0.0   2.18   0.0  0.458  6.998  45.8  6.0622  3.0  222.0   \n",
       "4  0.06905   0.0   2.18   0.0  0.458  7.147  54.2  6.0622  3.0  222.0   \n",
       "\n",
       "   PTRATIO       B  LSTAT  target  \n",
       "0     15.3  396.90   4.98    24.0  \n",
       "1     17.8  396.90   9.14    21.6  \n",
       "2     17.8  392.83   4.03    34.7  \n",
       "3     18.7  394.63   2.94    33.4  \n",
       "4     18.7  396.90   5.33    36.2  "
      ]
     },
     "execution_count": 11,
     "metadata": {},
     "output_type": "execute_result"
    }
   ],
   "source": [
    "df = pd.DataFrame(dataset.data)\n",
    "df.columns = dataset.feature_names\n",
    "df['target'] = dataset.target\n",
    "df.head()"
   ]
  },
  {
   "cell_type": "code",
   "execution_count": 12,
   "metadata": {},
   "outputs": [
    {
     "data": {
      "text/html": [
       "<div>\n",
       "<style scoped>\n",
       "    .dataframe tbody tr th:only-of-type {\n",
       "        vertical-align: middle;\n",
       "    }\n",
       "\n",
       "    .dataframe tbody tr th {\n",
       "        vertical-align: top;\n",
       "    }\n",
       "\n",
       "    .dataframe thead th {\n",
       "        text-align: right;\n",
       "    }\n",
       "</style>\n",
       "<table border=\"1\" class=\"dataframe\">\n",
       "  <thead>\n",
       "    <tr style=\"text-align: right;\">\n",
       "      <th></th>\n",
       "      <th>CRIM</th>\n",
       "      <th>ZN</th>\n",
       "      <th>INDUS</th>\n",
       "      <th>CHAS</th>\n",
       "      <th>NOX</th>\n",
       "      <th>RM</th>\n",
       "      <th>AGE</th>\n",
       "      <th>DIS</th>\n",
       "      <th>RAD</th>\n",
       "      <th>TAX</th>\n",
       "      <th>PTRATIO</th>\n",
       "      <th>B</th>\n",
       "      <th>LSTAT</th>\n",
       "      <th>target</th>\n",
       "    </tr>\n",
       "  </thead>\n",
       "  <tbody>\n",
       "    <tr>\n",
       "      <th>count</th>\n",
       "      <td>506.000000</td>\n",
       "      <td>506.000000</td>\n",
       "      <td>506.000000</td>\n",
       "      <td>506.000000</td>\n",
       "      <td>506.000000</td>\n",
       "      <td>506.000000</td>\n",
       "      <td>506.000000</td>\n",
       "      <td>506.000000</td>\n",
       "      <td>506.000000</td>\n",
       "      <td>506.000000</td>\n",
       "      <td>506.000000</td>\n",
       "      <td>506.000000</td>\n",
       "      <td>506.000000</td>\n",
       "      <td>506.000000</td>\n",
       "    </tr>\n",
       "    <tr>\n",
       "      <th>mean</th>\n",
       "      <td>3.593761</td>\n",
       "      <td>11.363636</td>\n",
       "      <td>11.136779</td>\n",
       "      <td>0.069170</td>\n",
       "      <td>0.554695</td>\n",
       "      <td>6.284634</td>\n",
       "      <td>68.574901</td>\n",
       "      <td>3.795043</td>\n",
       "      <td>9.549407</td>\n",
       "      <td>408.237154</td>\n",
       "      <td>18.455534</td>\n",
       "      <td>356.674032</td>\n",
       "      <td>12.653063</td>\n",
       "      <td>22.532806</td>\n",
       "    </tr>\n",
       "    <tr>\n",
       "      <th>std</th>\n",
       "      <td>8.596783</td>\n",
       "      <td>23.322453</td>\n",
       "      <td>6.860353</td>\n",
       "      <td>0.253994</td>\n",
       "      <td>0.115878</td>\n",
       "      <td>0.702617</td>\n",
       "      <td>28.148861</td>\n",
       "      <td>2.105710</td>\n",
       "      <td>8.707259</td>\n",
       "      <td>168.537116</td>\n",
       "      <td>2.164946</td>\n",
       "      <td>91.294864</td>\n",
       "      <td>7.141062</td>\n",
       "      <td>9.197104</td>\n",
       "    </tr>\n",
       "    <tr>\n",
       "      <th>min</th>\n",
       "      <td>0.006320</td>\n",
       "      <td>0.000000</td>\n",
       "      <td>0.460000</td>\n",
       "      <td>0.000000</td>\n",
       "      <td>0.385000</td>\n",
       "      <td>3.561000</td>\n",
       "      <td>2.900000</td>\n",
       "      <td>1.129600</td>\n",
       "      <td>1.000000</td>\n",
       "      <td>187.000000</td>\n",
       "      <td>12.600000</td>\n",
       "      <td>0.320000</td>\n",
       "      <td>1.730000</td>\n",
       "      <td>5.000000</td>\n",
       "    </tr>\n",
       "    <tr>\n",
       "      <th>25%</th>\n",
       "      <td>0.082045</td>\n",
       "      <td>0.000000</td>\n",
       "      <td>5.190000</td>\n",
       "      <td>0.000000</td>\n",
       "      <td>0.449000</td>\n",
       "      <td>5.885500</td>\n",
       "      <td>45.025000</td>\n",
       "      <td>2.100175</td>\n",
       "      <td>4.000000</td>\n",
       "      <td>279.000000</td>\n",
       "      <td>17.400000</td>\n",
       "      <td>375.377500</td>\n",
       "      <td>6.950000</td>\n",
       "      <td>17.025000</td>\n",
       "    </tr>\n",
       "    <tr>\n",
       "      <th>50%</th>\n",
       "      <td>0.256510</td>\n",
       "      <td>0.000000</td>\n",
       "      <td>9.690000</td>\n",
       "      <td>0.000000</td>\n",
       "      <td>0.538000</td>\n",
       "      <td>6.208500</td>\n",
       "      <td>77.500000</td>\n",
       "      <td>3.207450</td>\n",
       "      <td>5.000000</td>\n",
       "      <td>330.000000</td>\n",
       "      <td>19.050000</td>\n",
       "      <td>391.440000</td>\n",
       "      <td>11.360000</td>\n",
       "      <td>21.200000</td>\n",
       "    </tr>\n",
       "    <tr>\n",
       "      <th>75%</th>\n",
       "      <td>3.647423</td>\n",
       "      <td>12.500000</td>\n",
       "      <td>18.100000</td>\n",
       "      <td>0.000000</td>\n",
       "      <td>0.624000</td>\n",
       "      <td>6.623500</td>\n",
       "      <td>94.075000</td>\n",
       "      <td>5.188425</td>\n",
       "      <td>24.000000</td>\n",
       "      <td>666.000000</td>\n",
       "      <td>20.200000</td>\n",
       "      <td>396.225000</td>\n",
       "      <td>16.955000</td>\n",
       "      <td>25.000000</td>\n",
       "    </tr>\n",
       "    <tr>\n",
       "      <th>max</th>\n",
       "      <td>88.976200</td>\n",
       "      <td>100.000000</td>\n",
       "      <td>27.740000</td>\n",
       "      <td>1.000000</td>\n",
       "      <td>0.871000</td>\n",
       "      <td>8.780000</td>\n",
       "      <td>100.000000</td>\n",
       "      <td>12.126500</td>\n",
       "      <td>24.000000</td>\n",
       "      <td>711.000000</td>\n",
       "      <td>22.000000</td>\n",
       "      <td>396.900000</td>\n",
       "      <td>37.970000</td>\n",
       "      <td>50.000000</td>\n",
       "    </tr>\n",
       "  </tbody>\n",
       "</table>\n",
       "</div>"
      ],
      "text/plain": [
       "             CRIM          ZN       INDUS        CHAS         NOX          RM  \\\n",
       "count  506.000000  506.000000  506.000000  506.000000  506.000000  506.000000   \n",
       "mean     3.593761   11.363636   11.136779    0.069170    0.554695    6.284634   \n",
       "std      8.596783   23.322453    6.860353    0.253994    0.115878    0.702617   \n",
       "min      0.006320    0.000000    0.460000    0.000000    0.385000    3.561000   \n",
       "25%      0.082045    0.000000    5.190000    0.000000    0.449000    5.885500   \n",
       "50%      0.256510    0.000000    9.690000    0.000000    0.538000    6.208500   \n",
       "75%      3.647423   12.500000   18.100000    0.000000    0.624000    6.623500   \n",
       "max     88.976200  100.000000   27.740000    1.000000    0.871000    8.780000   \n",
       "\n",
       "              AGE         DIS         RAD         TAX     PTRATIO           B  \\\n",
       "count  506.000000  506.000000  506.000000  506.000000  506.000000  506.000000   \n",
       "mean    68.574901    3.795043    9.549407  408.237154   18.455534  356.674032   \n",
       "std     28.148861    2.105710    8.707259  168.537116    2.164946   91.294864   \n",
       "min      2.900000    1.129600    1.000000  187.000000   12.600000    0.320000   \n",
       "25%     45.025000    2.100175    4.000000  279.000000   17.400000  375.377500   \n",
       "50%     77.500000    3.207450    5.000000  330.000000   19.050000  391.440000   \n",
       "75%     94.075000    5.188425   24.000000  666.000000   20.200000  396.225000   \n",
       "max    100.000000   12.126500   24.000000  711.000000   22.000000  396.900000   \n",
       "\n",
       "            LSTAT      target  \n",
       "count  506.000000  506.000000  \n",
       "mean    12.653063   22.532806  \n",
       "std      7.141062    9.197104  \n",
       "min      1.730000    5.000000  \n",
       "25%      6.950000   17.025000  \n",
       "50%     11.360000   21.200000  \n",
       "75%     16.955000   25.000000  \n",
       "max     37.970000   50.000000  "
      ]
     },
     "execution_count": 12,
     "metadata": {},
     "output_type": "execute_result"
    }
   ],
   "source": [
    "df.describe()"
   ]
  },
  {
   "cell_type": "markdown",
   "metadata": {},
   "source": [
    "We're dealing with a dataset describing houses - each of them has **13** features. Let's see how each of them is related to our target - the price of the house!"
   ]
  },
  {
   "cell_type": "code",
   "execution_count": 13,
   "metadata": {},
   "outputs": [
    {
     "name": "stdout",
     "output_type": "stream",
     "text": [
      "-------CRIM--------\n"
     ]
    },
    {
     "data": {
      "image/png": "[encoded data removed]",
      "text/plain": [
       "<Figure size 432x288 with 1 Axes>"
      ]
     },
     "metadata": {
      "needs_background": "light"
     },
     "output_type": "display_data"
    },
    {
     "name": "stdout",
     "output_type": "stream",
     "text": [
      "-------ZN--------\n"
     ]
    },
    {
     "data": {
      "image/png": "[encoded data removed]",
      "text/plain": [
       "<Figure size 432x288 with 1 Axes>"
      ]
     },
     "metadata": {
      "needs_background": "light"
     },
     "output_type": "display_data"
    },
    {
     "name": "stdout",
     "output_type": "stream",
     "text": [
      "-------INDUS--------\n"
     ]
    },
    {
     "data": {
      "image/png": "[encoded data removed]",
      "text/plain": [
       "<Figure size 432x288 with 1 Axes>"
      ]
     },
     "metadata": {
      "needs_background": "light"
     },
     "output_type": "display_data"
    },
    {
     "name": "stdout",
     "output_type": "stream",
     "text": [
      "-------CHAS--------\n"
     ]
    },
    {
     "data": {
      "image/png": "[encoded data removed]",
      "text/plain": [
       "<Figure size 432x288 with 1 Axes>"
      ]
     },
     "metadata": {
      "needs_background": "light"
     },
     "output_type": "display_data"
    },
    {
     "name": "stdout",
     "output_type": "stream",
     "text": [
      "-------NOX--------\n"
     ]
    },
    {
     "data": {
      "image/png": "[encoded data removed]",
      "text/plain": [
       "<Figure size 432x288 with 1 Axes>"
      ]
     },
     "metadata": {
      "needs_background": "light"
     },
     "output_type": "display_data"
    },
    {
     "name": "stdout",
     "output_type": "stream",
     "text": [
      "-------RM--------\n"
     ]
    },
    {
     "data": {
      "image/png": "[encoded data removed]",
      "text/plain": [
       "<Figure size 432x288 with 1 Axes>"
      ]
     },
     "metadata": {
      "needs_background": "light"
     },
     "output_type": "display_data"
    },
    {
     "name": "stdout",
     "output_type": "stream",
     "text": [
      "-------AGE--------\n"
     ]
    },
    {
     "data": {
      "image/png": "[encoded data removed]",
      "text/plain": [
       "<Figure size 432x288 with 1 Axes>"
      ]
     },
     "metadata": {
      "needs_background": "light"
     },
     "output_type": "display_data"
    },
    {
     "name": "stdout",
     "output_type": "stream",
     "text": [
      "-------DIS--------\n"
     ]
    },
    {
     "data": {
      "image/png": "[encoded data removed]",
      "text/plain": [
       "<Figure size 432x288 with 1 Axes>"
      ]
     },
     "metadata": {
      "needs_background": "light"
     },
     "output_type": "display_data"
    },
    {
     "name": "stdout",
     "output_type": "stream",
     "text": [
      "-------RAD--------\n"
     ]
    },
    {
     "data": {
      "image/png": "[encoded data removed]",
      "text/plain": [
       "<Figure size 432x288 with 1 Axes>"
      ]
     },
     "metadata": {
      "needs_background": "light"
     },
     "output_type": "display_data"
    },
    {
     "name": "stdout",
     "output_type": "stream",
     "text": [
      "-------TAX--------\n"
     ]
    },
    {
     "data": {
      "image/png": "[encoded data removed]",
      "text/plain": [
       "<Figure size 432x288 with 1 Axes>"
      ]
     },
     "metadata": {
      "needs_background": "light"
     },
     "output_type": "display_data"
    },
    {
     "name": "stdout",
     "output_type": "stream",
     "text": [
      "-------PTRATIO--------\n"
     ]
    },
    {
     "data": {
      "image/png": "[encoded data removed]",
      "text/plain": [
       "<Figure size 432x288 with 1 Axes>"
      ]
     },
     "metadata": {
      "needs_background": "light"
     },
     "output_type": "display_data"
    },
    {
     "name": "stdout",
     "output_type": "stream",
     "text": [
      "-------B--------\n"
     ]
    },
    {
     "data": {
      "image/png": "[encoded data removed]",
      "text/plain": [
       "<Figure size 432x288 with 1 Axes>"
      ]
     },
     "metadata": {
      "needs_background": "light"
     },
     "output_type": "display_data"
    },
    {
     "name": "stdout",
     "output_type": "stream",
     "text": [
      "-------LSTAT--------\n"
     ]
    },
    {
     "data": {
      "image/png": "[encoded data removed]",
      "text/plain": [
       "<Figure size 432x288 with 1 Axes>"
      ]
     },
     "metadata": {
      "needs_background": "light"
     },
     "output_type": "display_data"
    }
   ],
   "source": [
    "for feature in df.columns:\n",
    "    if feature != 'target':\n",
    "        print(f\"-------{feature}--------\")\n",
    "        plt.scatter(df[feature], df['target'])\n",
    "        plt.show()"
   ]
  },
  {
   "cell_type": "markdown",
   "metadata": {},
   "source": [
    "As you can see from the plots, in most of them some kind of relationship can be observed.\n",
    "\n",
    "Now, is it possible to use what we already know to train a model which will make accurate enough predictions?"
   ]
  },
  {
   "cell_type": "code",
   "execution_count": 14,
   "metadata": {},
   "outputs": [
    {
     "data": {
      "text/plain": [
       "((506, 13), (506,))"
      ]
     },
     "execution_count": 14,
     "metadata": {},
     "output_type": "execute_result"
    }
   ],
   "source": [
    "X = dataset.data\n",
    "Y = dataset.target\n",
    "\n",
    "X.shape, Y.shape"
   ]
  },
  {
   "cell_type": "markdown",
   "metadata": {},
   "source": [
    "The main difference is that previously:\n",
    "\n",
    "### $$\\hat{y} = h_W(x) = w_0 + w_1x$$ \n",
    "\n",
    "And today:\n",
    "\n",
    "### $$\\hat{y} = h_W(x_1, x_2, ..., x_k) \\\\\n",
    "= w_0 + w_1x_1+ w_2x_2+ w_3x_3+ ... + w_kx_k \\\\\n",
    "= w_0 + \\sum_{i=1}^k w_i x_i$$ \n",
    "\n",
    "As you can see, $w_0$ has been left out from the sum, which makes it sad. Can we do something, which will make it possible to include it there?\n",
    "\n",
    "The simple solution is to add a *bias feature* to our input dataset - $X$ - i.e. add a column of ones to it.\n",
    "\n",
    "This way, for each datapoint $x^{(j)}$,  \n",
    "### $$x_0^{(j)} = 1$$\n",
    "and \n",
    "### $$ x_0^{(j)} \\cdot w_0 = w_0 $$\n",
    "\n",
    "therefore\n",
    "\n",
    "### $$ w_0 + \\sum_{i=1}^k w_i x_i^{(j)} =  \\sum_{i=0}^k w_i x_i^{(j)} = h_W(x^{(j)})$$"
   ]
  },
  {
   "cell_type": "code",
   "execution_count": 15,
   "metadata": {},
   "outputs": [
    {
     "data": {
      "text/plain": [
       "((506, 14), (506,))"
      ]
     },
     "execution_count": 15,
     "metadata": {},
     "output_type": "execute_result"
    }
   ],
   "source": [
    "X = np.column_stack([np.ones(X.shape[0]), X])\n",
    "X.shape, Y.shape"
   ]
  },
  {
   "cell_type": "markdown",
   "metadata": {},
   "source": [
    "Calculating this manually every time is not a goood idea. \n",
    "\n",
    "Your task now is to implement a function which will compute the hypotheses for given data $(X)$ and model $(w_0, w_1, w_2, w_3, w_4, w_5, w_6, w_7, w_8, w_9, w_{10}, w_{11}, w_{12}, w_{13})$"
   ]
  },
  {
   "cell_type": "code",
   "execution_count": 16,
   "metadata": {},
   "outputs": [],
   "source": [
    "def hypothesis(\n",
    "    X: np.ndarray,\n",
    "    w_0: float, \n",
    "    w_1: float, \n",
    "    w_2: float, \n",
    "    w_3: float, \n",
    "    w_4: float, \n",
    "    w_5: float, \n",
    "    w_6: float, \n",
    "    w_7: float, \n",
    "    w_8: float, \n",
    "    w_9: float, \n",
    "    w_10: float, \n",
    "    w_11: float, \n",
    "    w_12: float, \n",
    "    w_13: float\n",
    ") -> np.ndarray:\n",
    "    pass\n",
    "    # PLEASE DON'T EVER DO THAT"
   ]
  },
  {
   "cell_type": "markdown",
   "metadata": {},
   "source": [
    "Wow, I got tired of even writing this header!\n",
    "\n",
    "We obviously need something more elegant. This is why, from now on, we'll always think of particular datapoints not as numbers, but vectors of numbers. Therefore, the whole dataset will be a **vector of vectors** - a matrix.\n",
    "\n",
    "The same way, we won't care much for every particular weight in our model, we'll treat them as a single vector of numbers.\n",
    "\n",
    "So: \n",
    "### $$\n",
    "\\hat{y}^{(j)} = h_W(x^{(j)}) \\sum_{i=0}^k w_i x_i^{(j)} = \\sum Wx^{(j)} \n",
    "$$\n",
    "\n",
    "* $W$ has shape $[n_{features}]$\n",
    "* $X$ has shape $[n_{datapoints}, n_{features}]$\n",
    "* $Y$ has shape $[n_{datapoints}]$\n",
    "\n",
    "Please implement it. If you use numpy magic instead of iterating over columns, it should take you just one line of code!"
   ]
  },
  {
   "cell_type": "code",
   "execution_count": 41,
   "metadata": {},
   "outputs": [],
   "source": [
    "def hypotheses(W: np.ndarray, X: np.ndarray) -> np.ndarray:\n",
    "    return X @ W\n",
    "    #return np.zeros(X.size[0])"
   ]
  },
  {
   "cell_type": "code",
   "execution_count": 42,
   "metadata": {},
   "outputs": [],
   "source": [
    "#hypotheses = solutions.hypotheses"
   ]
  },
  {
   "cell_type": "code",
   "execution_count": 43,
   "metadata": {},
   "outputs": [
    {
     "name": "stdout",
     "output_type": "stream",
     "text": [
      "your solution: [106.85319557 104.81578285 100.08725765  95.02855159  97.6032544 ]\n",
      "provided solution: [106.85319557 104.81578285 100.08725765  95.02855159  97.6032544 ]\n"
     ]
    }
   ],
   "source": [
    "# let's make a sanity check on a few examples!\n",
    "W = np.random.rand(X.shape[1])\n",
    "print('your solution:', hypotheses(W, X[:5]))\n",
    "print('provided solution:', solutions.hypotheses(W, X[:5]))\n"
   ]
  },
  {
   "cell_type": "markdown",
   "metadata": {},
   "source": [
    "This also means we have to update the formula for the cost function:\n",
    "\n",
    "### $$\n",
    "L(w_0, w_1, ... w_n) = L(W) \\\\ \n",
    "= \\frac{1}{2N}\\sum_{i=0}^N(\\sum_{j=0}^k w_j x^{(i)}_j - y^{(i)})^2 \\\\\n",
    "= \\frac{1}{2N}\\sum_{i=0}^N (h_W(x^{(i)}) - y^{(i)})^2\n",
    "$$"
   ]
  },
  {
   "cell_type": "code",
   "execution_count": 50,
   "metadata": {},
   "outputs": [],
   "source": [
    "def loss(W: np.ndarray, X: np.ndarray, Y: np.ndarray) -> float:\n",
    "    H = hypotheses(W, X)\n",
    "    err = H - Y\n",
    "    err_sq = err ** 2\n",
    "    return np.mean(err_sq) / 2"
   ]
  },
  {
   "cell_type": "code",
   "execution_count": 51,
   "metadata": {},
   "outputs": [],
   "source": [
    "#loss = solutions.loss"
   ]
  },
  {
   "cell_type": "code",
   "execution_count": 52,
   "metadata": {},
   "outputs": [
    {
     "name": "stdout",
     "output_type": "stream",
     "text": [
      "your solution: 142945.81295356812\n",
      "provided solution: 142945.81295356812\n"
     ]
    }
   ],
   "source": [
    "W = np.random.rand(X.shape[1])\n",
    "print('your solution:', loss(W, X, Y))\n",
    "print('provided solution:', solutions.loss(W, X, Y))"
   ]
  },
  {
   "cell_type": "markdown",
   "metadata": {},
   "source": [
    "...and Gradient Steps\n",
    "\n",
    "For every iteration:\n",
    "* calculate partial derivatives of cost function with respect to every element of W:\n",
    "\n",
    "### $$\\epsilon_j = \\frac{\\partial}{\\partial w_j}L(W) = \\frac{1}{N} \\sum_{i=1}^N(h_W(x^{(i)}) - y^{(i)})x_j^{(i)}$$\n",
    "\n",
    "* **simultaneously** update every element of W:\n",
    "\n",
    "### $$w_j = w_j - \\alpha \\epsilon_j$$ \n",
    "\n",
    "Where $\\alpha$ is our learning rate."
   ]
  },
  {
   "cell_type": "code",
   "execution_count": 83,
   "metadata": {},
   "outputs": [],
   "source": [
    "def gradient_step(\n",
    "    W: np.ndarray, \n",
    "    X: np.ndarray, \n",
    "    Y: np.ndarray, \n",
    "    learning_rate=0.01\n",
    ") -> np.ndarray:\n",
    "    Y_pred = hypotheses(W, X)\n",
    "    err = Y_pred - Y\n",
    "    eps = err @ X / len(err)\n",
    "    return W - eps * learning_rate"
   ]
  },
  {
   "cell_type": "code",
   "execution_count": 84,
   "metadata": {},
   "outputs": [],
   "source": [
    "#gradient_step = solutions.gradient_step"
   ]
  },
  {
   "cell_type": "code",
   "execution_count": 85,
   "metadata": {},
   "outputs": [
    {
     "name": "stdout",
     "output_type": "stream",
     "text": [
      "your solution: [-5.14046924e+00 -2.44174929e+01 -5.15452216e+01 -6.53991916e+01\n",
      " -2.12744924e-01 -2.38304695e+00 -3.29334526e+01 -3.91273902e+02\n",
      " -1.92235797e+01 -5.92132747e+01 -2.39590455e+03 -1.00524120e+02\n",
      " -1.93318210e+03 -7.31571788e+01]\n",
      "provided solution: [-5.14046924e+00 -2.44174929e+01 -5.15452216e+01 -6.53991916e+01\n",
      " -2.12744924e-01 -2.38304695e+00 -3.29334526e+01 -3.91273902e+02\n",
      " -1.92235797e+01 -5.92132747e+01 -2.39590455e+03 -1.00524120e+02\n",
      " -1.93318210e+03 -7.31571788e+01]\n"
     ]
    }
   ],
   "source": [
    "W = np.random.rand(X.shape[1])\n",
    "print('your solution:', gradient_step(W, X, Y))\n",
    "print('provided solution:', solutions.gradient_step(W, X, Y))"
   ]
  },
  {
   "cell_type": "markdown",
   "metadata": {},
   "source": [
    "### With all those tools at our disposal, let's train a model!\n"
   ]
  },
  {
   "cell_type": "code",
   "execution_count": 86,
   "metadata": {},
   "outputs": [],
   "source": [
    "def train_model(\n",
    "    init_W: np.ndarray,\n",
    "    X: np.ndarray,\n",
    "    Y: np.ndarray,\n",
    "    learning_rate: float,\n",
    "    num_iterations: int\n",
    ") -> Tuple[np.ndarray, List[float]]:\n",
    "    return init_W, []"
   ]
  },
  {
   "cell_type": "code",
   "execution_count": 87,
   "metadata": {},
   "outputs": [],
   "source": [
    "train_model = solutions.train_model"
   ]
  },
  {
   "cell_type": "code",
   "execution_count": 88,
   "metadata": {},
   "outputs": [
    {
     "name": "stdout",
     "output_type": "stream",
     "text": [
      "your solution: (array([-6.63104623e+01, -3.24167319e+02, -6.19406305e+02, -8.30991110e+02,\n",
      "       -4.19503710e+00, -3.81529221e+01, -4.15515495e+02, -4.86009041e+03,\n",
      "       -2.32802355e+02, -7.70805813e+02, -3.01474366e+04, -1.25187290e+03,\n",
      "       -2.35308676e+04, -9.15354755e+02]), [239091.57659153917])\n",
      "provided solution: (array([-6.63104623e+01, -3.24167319e+02, -6.19406305e+02, -8.30991110e+02,\n",
      "       -4.19503710e+00, -3.81529221e+01, -4.15515495e+02, -4.86009041e+03,\n",
      "       -2.32802355e+02, -7.70805813e+02, -3.01474366e+04, -1.25187290e+03,\n",
      "       -2.35308676e+04, -9.15354755e+02]), [239091.57659153917])\n"
     ]
    }
   ],
   "source": [
    "init_W = np.random.rand(X.shape[1])\n",
    "print('your solution:', train_model(init_W, X, Y, 0.1, 1))\n",
    "print('provided solution:', solutions.train_model(init_W, X, Y, 0.1, 1))"
   ]
  },
  {
   "cell_type": "code",
   "execution_count": 103,
   "metadata": {},
   "outputs": [
    {
     "name": "stderr",
     "output_type": "stream",
     "text": [
      "/mnt/d/Dokumenty/Studia/BIT_AI/2_multivariate_regression/solutions.py:11: RuntimeWarning: overflow encountered in square\n",
      "  errors_squared = errors ** 2\n",
      "/mnt/d/Dokumenty/Studia/BIT_AI/2_multivariate_regression/solutions.py:19: RuntimeWarning: invalid value encountered in subtract\n",
      "  return W - epsilons * learning_rate\n"
     ]
    },
    {
     "data": {
      "image/png": "[encoded data removed]",
      "text/plain": [
       "<Figure size 432x288 with 1 Axes>"
      ]
     },
     "metadata": {
      "needs_background": "light"
     },
     "output_type": "display_data"
    },
    {
     "name": "stdout",
     "output_type": "stream",
     "text": [
      "example targets [24.  21.6 34.7 33.4 36.2]\n",
      "example predictions [nan nan nan nan nan]\n"
     ]
    }
   ],
   "source": [
    "init_W = np.random.rand(X.shape[1])\n",
    "num_iterations = 10000\n",
    "learning_rate = 0.01\n",
    "\n",
    "trained_W, loss_hist = train_model(init_W, X, Y, learning_rate, num_iterations)\n",
    "\n",
    "plt.plot(np.arange(num_iterations), loss_hist)\n",
    "plt.show()\n",
    "\n",
    "Y_pred = hypotheses(trained_W, X)\n",
    "\n",
    "print('example targets', Y[:5])\n",
    "print('example predictions', Y_pred[:5])"
   ]
  },
  {
   "cell_type": "markdown",
   "metadata": {},
   "source": [
    "### WTF just happened?\n",
    "\n",
    "Our algorithms seem to be perfect, yet loss has exploded and our trained weights are NaNs! Why is that?"
   ]
  },
  {
   "cell_type": "code",
   "execution_count": 99,
   "metadata": {},
   "outputs": [
    {
     "name": "stdout",
     "output_type": "stream",
     "text": [
      "means\n",
      "['1.00', '3.59', '11.36', '11.14', '0.07', '0.55', '6.28', '68.57', '3.80', '9.55', '408.24', '18.46', '356.67', '12.65']\n",
      "ranges\n",
      "['0.00', '88.97', '100.00', '27.28', '1.00', '0.49', '5.22', '97.10', '11.00', '23.00', '524.00', '9.40', '396.58', '36.24']\n"
     ]
    }
   ],
   "source": [
    "def pretty_format(to_print, name=None):\n",
    "    if name is not None: print(name)\n",
    "    print([\"%.2f\" % x for x in to_print])\n",
    "\n",
    "pretty_format(X.mean(axis=0), \"means\")\n",
    "pretty_format(X.max(axis=0) - X.min(axis=0), \"ranges\")\n"
   ]
  },
  {
   "cell_type": "markdown",
   "metadata": {},
   "source": [
    "Our datapoints have very weird orders of magnitude, ranging form $10^0$ to $10^2$. \n",
    "\n",
    "Even though the initial weights are very small, you can guess what such initial values will do to the initial hypotheses, values of loss function and it's gradients. \n",
    "\n",
    "Moreover, due to the imbalance in the scales of features, the process of training itself will be slower, as updates in some weights will outweight updates in the others. \n",
    "\n",
    "![Normalization](img/normalization.png)\n",
    "\n"
   ]
  },
  {
   "cell_type": "markdown",
   "metadata": {},
   "source": [
    "## Feature scaling to the rescue!\n",
    "\n",
    "We want all our features to be roughly in the same range, i.e [-1, 1]. This is called **data normalization**. \n",
    "\n",
    "One way to achieve it is **mean normalization**:\n",
    "\n",
    "$$x_i = \\frac{x_i - \\mu_i}{max(x_i) - min(x_i)}$$\n",
    "\n",
    "The exception is the bias feature - $x_0$  - since it's always equal to 1 (just like we want i t to be), we don't normalize it!\n",
    "\n",
    "Now, implement a function which will calculate the mean-normalized Xs (and keep $X_0$ intact).\n",
    "The function should return normalized X and calculated means and ranges.\n",
    "We also want to be able to provide the function with pre-calculated means and ranges and use those, instead of calculating them from provided X."
   ]
  },
  {
   "cell_type": "code",
   "execution_count": 100,
   "metadata": {},
   "outputs": [],
   "source": [
    "def mean_normalization(\n",
    "    X: np.ndarray, \n",
    "    means: Optional[np.ndarray] = None, \n",
    "    ranges: Optional[np.ndarray] = None\n",
    ") -> Tuple[np.ndarray, np.ndarray, np.ndarray]:\n",
    "    return X, means, ranges"
   ]
  },
  {
   "cell_type": "code",
   "execution_count": 101,
   "metadata": {},
   "outputs": [],
   "source": [
    "mean_normalization = solutions.mean_normalization"
   ]
  },
  {
   "cell_type": "code",
   "execution_count": 102,
   "metadata": {},
   "outputs": [
    {
     "name": "stdout",
     "output_type": "stream",
     "text": [
      "means yours\n",
      "['0.00', '3.59', '11.36', '11.14', '0.07', '0.55', '6.28', '68.57', '3.80', '9.55', '408.24', '18.46', '356.67', '12.65']\n",
      "means provided\n",
      "['0.00', '3.59', '11.36', '11.14', '0.07', '0.55', '6.28', '68.57', '3.80', '9.55', '408.24', '18.46', '356.67', '12.65']\n",
      "\n",
      "ranges yours\n",
      "['1.00', '88.97', '100.00', '27.28', '1.00', '0.49', '5.22', '97.10', '11.00', '23.00', '524.00', '9.40', '396.58', '36.24']\n",
      "ranges provided\n",
      "['1.00', '88.97', '100.00', '27.28', '1.00', '0.49', '5.22', '97.10', '11.00', '23.00', '524.00', '9.40', '396.58', '36.24']\n"
     ]
    }
   ],
   "source": [
    "X_norm, X_mean, X_range = mean_normalization(X)\n",
    "X_norm_sol, X_mean_sol, X_range_sol = solutions.mean_normalization(X)\n",
    "\n",
    "pretty_format(X_mean, \"means yours\")\n",
    "pretty_format(X_mean_sol, \"means provided\")\n",
    "print()\n",
    "pretty_format(X_range, \"ranges yours\")\n",
    "pretty_format(X_range_sol, \"ranges provided\")\n"
   ]
  },
  {
   "cell_type": "code",
   "execution_count": 105,
   "metadata": {},
   "outputs": [
    {
     "data": {
      "text/plain": [
       "array([[ 1.        , -0.04032197,  0.06636364, ..., -0.33569506,\n",
       "         0.10143217, -0.21172912],\n",
       "       [ 1.        , -0.04008605, -0.11363636, ..., -0.06973762,\n",
       "         0.10143217, -0.09693883],\n",
       "       [ 1.        , -0.04008627, -0.11363636, ..., -0.06973762,\n",
       "         0.09116942, -0.23794325],\n",
       "       ...,\n",
       "       [ 1.        , -0.03971008, -0.11363636, ...,  0.27068792,\n",
       "         0.10143217, -0.1935172 ],\n",
       "       [ 1.        , -0.03916124, -0.11363636, ...,  0.27068792,\n",
       "         0.09273279, -0.17033839],\n",
       "       [ 1.        , -0.03986013, -0.11363636, ...,  0.27068792,\n",
       "         0.10143217, -0.13170704]])"
      ]
     },
     "execution_count": 105,
     "metadata": {},
     "output_type": "execute_result"
    }
   ],
   "source": [
    "X_norm"
   ]
  },
  {
   "cell_type": "code",
   "execution_count": 98,
   "metadata": {},
   "outputs": [
    {
     "data": {
      "text/plain": [
       "((506, 14), (506, 14))"
      ]
     },
     "execution_count": 98,
     "metadata": {},
     "output_type": "execute_result"
    }
   ],
   "source": [
    "# do feature matrices have the same shapes?\n",
    "X.shape, X_norm.shape"
   ]
  },
  {
   "cell_type": "markdown",
   "metadata": {},
   "source": [
    "## Now that our data has been normalized, let's try to train a model once more"
   ]
  },
  {
   "cell_type": "code",
   "execution_count": 104,
   "metadata": {},
   "outputs": [
    {
     "data": {
      "image/png": "[encoded data removed]",
      "text/plain": [
       "<Figure size 432x288 with 1 Axes>"
      ]
     },
     "metadata": {
      "needs_background": "light"
     },
     "output_type": "display_data"
    },
    {
     "name": "stdout",
     "output_type": "stream",
     "text": [
      "example targets [24.  21.6 34.7 33.4 36.2]\n",
      "example predictions [28.34478637 25.21445741 27.33786398 27.68418462 27.28288294]\n",
      "final loss 20.00823611325525\n"
     ]
    }
   ],
   "source": [
    "init_W = np.random.rand(X_norm.shape[1])\n",
    "num_iterations = 1000\n",
    "learning_rate = 0.01\n",
    "\n",
    "trained_W, loss_hist = train_model(init_W, X_norm, Y, learning_rate, num_iterations)\n",
    "\n",
    "plt.plot(np.arange(num_iterations), loss_hist)\n",
    "plt.show()\n",
    "\n",
    "Y_pred = hypotheses(trained_W, X_norm)\n",
    "\n",
    "print('example targets', Y[:5])\n",
    "print('example predictions', Y_pred[:5])\n",
    "print('final loss', loss_hist[-1])"
   ]
  },
  {
   "cell_type": "markdown",
   "metadata": {},
   "source": [
    "### How does it compare to a scikit-learn model?"
   ]
  },
  {
   "cell_type": "code",
   "execution_count": 107,
   "metadata": {},
   "outputs": [
    {
     "name": "stdout",
     "output_type": "stream",
     "text": [
      "example targets\n",
      "['24.00', '21.60', '34.70', '33.40', '36.20']\n",
      "example_predictions\n",
      "['28.34', '25.21', '27.34', '27.68', '27.28']\n",
      "final loss\n",
      "['20.01']\n"
     ]
    }
   ],
   "source": [
    "from sklearn.linear_model import LinearRegression\n",
    "\n",
    "regressor = LinearRegression()\n",
    "regressor.fit(X_norm, Y)\n",
    "Y_pred_regr = regressor.predict(X_norm)\n",
    "final_regressor_loss = np.mean((Y_pred_regr - Y) ** 2) / 2\n",
    "\n",
    "pretty_format(Y[:5], 'example targets')\n",
    "pretty_format(Y_pred[:5], 'example_predictions')\n",
    "pretty_format([loss_hist[-1]], 'final loss')"
   ]
  },
  {
   "cell_type": "markdown",
   "metadata": {},
   "source": [
    "Not bad!\n",
    "\n",
    "As the final excercise, let's try to make things difficult for our model a bit more."
   ]
  },
  {
   "cell_type": "markdown",
   "metadata": {},
   "source": [
    "So far, things have been quite easy for our model - it was evaluated on the same data it hd been trained on. \n",
    "\n",
    "However, this is not the case in real life. What we care about is whether a trained model is able to make accurate predictions on the data it has never seen before.\n",
    "\n",
    "That's why, when training **any** model on **any** dataset, the first thing you must do is split the dataset into **training**, **validation** and **test** sets.\n",
    "\n",
    "For the simple models, validation set can be omitted, and today we'll see the usage of train and test sets."
   ]
  },
  {
   "cell_type": "code",
   "execution_count": 113,
   "metadata": {},
   "outputs": [],
   "source": [
    "def train_test_split(\n",
    "    X: np.ndarray, \n",
    "    Y: np.ndarray,\n",
    "    ratio: float = 0.7\n",
    ") -> Tuple[np.ndarray, np.ndarray, np.ndarray, np.ndarray]:\n",
    "    n_datapoints = X.shape[0]\n",
    "    assert(n_datapoints == Y.shape[0])\n",
    "    shuffled_indices = np.arange(n_datapoints)\n",
    "    np.random.shuffle(shuffled_indices)\n",
    "    train_count = int(n_datapoints * ratio)\n",
    "    train_indices = shuffled_indices[:train_count]\n",
    "    test_indices = shuffled_indices[train_count:]\n",
    "\n",
    "    X_train = X[train_indices]\n",
    "    Y_train = Y[train_indices]\n",
    "    X_test = X[test_indices]\n",
    "    Y_test = Y[test_indices]\n",
    "    \n",
    "    return X_train, Y_train, X_test, Y_test\n"
   ]
  },
  {
   "cell_type": "code",
   "execution_count": 114,
   "metadata": {},
   "outputs": [],
   "source": [
    "X_train, Y_train, X_test, Y_test = train_test_split(X, Y)"
   ]
  },
  {
   "cell_type": "markdown",
   "metadata": {},
   "source": [
    "### Remember about data normalization!\n",
    "\n",
    "#### How to normalize previously unseen data?\n",
    "\n",
    "We have to make an assumption that the distribution of training data is close to the general distribution of data in our domain. In order for our normalization mapping to be coherent, we will normalize any test data using the means and ranges calculated from $X_{train}$\n"
   ]
  },
  {
   "cell_type": "code",
   "execution_count": 115,
   "metadata": {},
   "outputs": [],
   "source": [
    "X_train, X_mean, X_range = mean_normalization(X_train)\n",
    "# this is why we keep normalization data\n",
    "X_test, X_mean, X_range = mean_normalization(X_test, X_mean, X_range)"
   ]
  },
  {
   "cell_type": "code",
   "execution_count": 116,
   "metadata": {},
   "outputs": [],
   "source": [
    "def train_test_model(\n",
    "    init_W: np.ndarray,\n",
    "    X_train: np.ndarray,\n",
    "    Y_train: np.ndarray,\n",
    "    X_test: np.ndarray,\n",
    "    Y_test: np.ndarray,\n",
    "    learning_rate: float,\n",
    "    num_iterations: int\n",
    ") -> Tuple[np.ndarray, List[float], List[float]]:\n",
    "    \n",
    "    W = init_W\n",
    "    train_loss_history = []\n",
    "    test_loss_history = []\n",
    "    for i in range(num_iterations):\n",
    "        train_loss_history.append(loss(W, X_train, Y_train))\n",
    "        test_loss_history.append(loss(W, X_test, Y_test))\n",
    "        W = gradient_step(W, X_train, Y_train, learning_rate)\n",
    "    return W, train_loss_history, test_loss_history"
   ]
  },
  {
   "cell_type": "code",
   "execution_count": 117,
   "metadata": {},
   "outputs": [
    {
     "data": {
      "image/png": "[encoded data removed]",
      "text/plain": [
       "<Figure size 432x288 with 1 Axes>"
      ]
     },
     "metadata": {
      "needs_background": "light"
     },
     "output_type": "display_data"
    }
   ],
   "source": [
    "init_W = np.random.rand(X_norm.shape[1])\n",
    "num_iterations = 1000\n",
    "learning_rate = 0.01\n",
    "\n",
    "trained_W, train_loss_hist, test_loss_hist = train_test_model(\n",
    "    init_W, \n",
    "    X_train, \n",
    "    Y_train, \n",
    "    X_test, \n",
    "    Y_test, \n",
    "    learning_rate, \n",
    "    num_iterations\n",
    ")\n",
    "\n",
    "plt.plot(np.arange(num_iterations), train_loss_hist)\n",
    "plt.plot(np.arange(num_iterations), test_loss_hist, color='red')\n",
    "\n",
    "plt.show()"
   ]
  },
  {
   "cell_type": "code",
   "execution_count": 118,
   "metadata": {},
   "outputs": [
    {
     "name": "stdout",
     "output_type": "stream",
     "text": [
      "example targets\n",
      "['24.00', '21.60', '34.70', '33.40', '36.20']\n",
      "example_predictions\n",
      "['23.38', '18.10', '24.93', '14.33', '24.66']\n",
      "final loss\n",
      "['18.72', '23.48']\n"
     ]
    }
   ],
   "source": [
    "Y_pred = hypotheses(trained_W, X_test)\n",
    "pretty_format(Y[:5], 'example targets')\n",
    "pretty_format(Y_pred[:5], 'example_predictions')\n",
    "pretty_format([train_loss_hist[-1], test_loss_hist[-1]], 'final loss')"
   ]
  },
  {
   "cell_type": "markdown",
   "metadata": {},
   "source": [
    "Our predictions are not quite perfect and loss leaves something to be desired. \n",
    "But we also see, that our model has learnt *some* intuition about making predictions from real-life data, including data it has never seen before. \n",
    "\n",
    "That's pretty good!"
   ]
  }
 ],
 "metadata": {
  "kernelspec": {
   "display_name": "Python 3",
   "language": "python",
   "name": "python3"
  },
  "language_info": {
   "codemirror_mode": {
    "name": "ipython",
    "version": 3
   },
   "file_extension": ".py",
   "mimetype": "text/x-python",
   "name": "python",
   "nbconvert_exporter": "python",
   "pygments_lexer": "ipython3",
   "version": "3.7.0"
  }
 },
 "nbformat": 4,
 "nbformat_minor": 2
}
