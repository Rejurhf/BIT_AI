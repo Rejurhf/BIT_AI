{
 "cells": [
  {
   "cell_type": "markdown",
   "metadata": {},
   "source": [
    "# A very simple Neural Network in NumPy example"
   ]
  },
  {
   "cell_type": "code",
   "execution_count": null,
   "metadata": {},
   "outputs": [],
   "source": [
    "import numpy as np\n",
    "import matplotlib.pyplot as plt\n",
    "import os\n",
    "from mlxtend.data import loadlocal_mnist\n",
    "\n",
    "%load_ext autoreload\n",
    "%autoreload 2"
   ]
  },
  {
   "cell_type": "code",
   "execution_count": null,
   "metadata": {},
   "outputs": [],
   "source": [
    "if not os.path.exists(\"train-images-idx3-ubyte\"):\n",
    "    !curl -O http://yann.lecun.com/exdb/mnist/train-images-idx3-ubyte.gz\n",
    "    !curl -O http://yann.lecun.com/exdb/mnist/train-labels-idx1-ubyte.gz\n",
    "    !curl -O http://yann.lecun.com/exdb/mnist/t10k-images-idx3-ubyte.gz\n",
    "    !curl -O http://yann.lecun.com/exdb/mnist/t10k-labels-idx1-ubyte.gz\n",
    "    !gunzip t*-ubyte.gz"
   ]
  },
  {
   "cell_type": "code",
   "execution_count": null,
   "metadata": {},
   "outputs": [],
   "source": [
    "X1, y1 = loadlocal_mnist(\n",
    "        images_path=\"train-images-idx3-ubyte\", \n",
    "        labels_path=\"train-labels-idx1-ubyte\")\n",
    "\n",
    "X2, y2 = loadlocal_mnist(\n",
    "        images_path=\"t10k-images-idx3-ubyte\", \n",
    "        labels_path=\"t10k-labels-idx1-ubyte\")\n",
    "\n",
    "X1 = X1.reshape(X1.shape[0], -1) / 255\n",
    "X2 = X2.reshape(X2.shape[0], -1) /255\n",
    "\n",
    "X = np.concatenate([X1, X2])\n",
    "y = np.concatenate([y1, y2])\n",
    "\n",
    "X.shape, y.shape"
   ]
  },
  {
   "cell_type": "code",
   "execution_count": null,
   "metadata": {},
   "outputs": [],
   "source": [
    "def step(X, y, cache, batch_size=120, lr=0.01, reg=0.01):\n",
    "    W1, b1, W2, b2 = cache\n",
    "    batch_indices = np.random.randint(0, X.shape[0], batch_size)\n",
    "    batch_y = y[batch_indices]\n",
    "    onehot_groudtruth = np.zeros((batch_size, n_classes))\n",
    "    onehot_groudtruth[np.arange(batch_size), batch_y] = 1\n",
    "    \n",
    "    # forward prop\n",
    "    a1 = X[batch_indices]\n",
    "    z1 = a1 @ W1 + b1\n",
    "    a2 = z1 * (z1 > 0) #ReLU\n",
    "    z2 = a2 @ W2 + b2\n",
    "    scores = z2\n",
    "    \n",
    "    # calcualte accuracy \n",
    "    y_pred = np.argmax(scores, axis=1)\n",
    "    acc = (y_pred == batch_y).sum() / batch_size\n",
    "    \n",
    "    # softmax loss\n",
    "    scores_e = np.e ** scores\n",
    "    scores_gt = scores_e[np.arange(batch_y.shape[0]), batch_y]\n",
    "    scores_e_sums = scores_e.sum(axis=1)\n",
    "    loss = ( \n",
    "        (-np.log(scores_gt / scores_e_sums)).sum() / a1.shape[0] + \n",
    "        reg * (np.sum(W1 ** 2) + np.sum(W2 ** 2))\n",
    "           )\n",
    "    # gradients  \n",
    "    dscores = ((scores_e.T / scores_e_sums).T - onehot_groudtruth) / scores.shape[0]\n",
    "    dz2 = dscores\n",
    "    dW2 = a2.T @ dz2 + 2 * reg * W2\n",
    "    db2 = dz2.sum(axis=0)\n",
    "    da2 = dz2 @ W2.T\n",
    "    dz1 = da2 * (z1 > 0) #ReLU\n",
    "    dW1 = a1.T @ dz1 + 2* reg * W1\n",
    "    db1 = dz1.sum(axis=0)\n",
    "    da1 = dz1 @ W1.T # this is the gradient of input with respect to loss\n",
    "    \n",
    "    # gradient descent\n",
    "    W1 -= lr * dW1\n",
    "    b1 -= lr * db1\n",
    "    W2 -= lr * dW2\n",
    "    b2 -= lr * db2\n",
    "    \n",
    "    return loss, acc, (W1, b1, W2, b2)"
   ]
  },
  {
   "cell_type": "code",
   "execution_count": null,
   "metadata": {},
   "outputs": [],
   "source": [
    "n_features = 784\n",
    "n_classes = 10\n",
    "hidden_size = 100\n",
    "W1 = np.random.randn(n_features, hidden_size)\n",
    "b1 = np.random.randn(hidden_size)\n",
    "W2 = np.random.randn(hidden_size, n_classes)\n",
    "b2 = np.random.randn(n_classes)\n",
    "\n",
    "cache = (W1, b1, W2, b2)"
   ]
  },
  {
   "cell_type": "code",
   "execution_count": null,
   "metadata": {},
   "outputs": [],
   "source": [
    "l = []\n",
    "a = []\n",
    "n_steps = 1000\n",
    "for i in range(n_steps):\n",
    "    sc_l, acc, cache = step(X1, y1, cache)\n",
    "    l.append(sc_l)\n",
    "    a.append(acc)\n",
    "    \n",
    "plt.plot(np.arange(n_steps), l)\n",
    "plt.show()\n",
    "\n",
    "plt.plot(np.arange(n_steps), a)\n",
    "plt.show()"
   ]
  }
 ],
 "metadata": {
  "kernelspec": {
   "display_name": "Python 3",
   "language": "python",
   "name": "python3"
  },
  "language_info": {
   "codemirror_mode": {
    "name": "ipython",
    "version": 3
   },
   "file_extension": ".py",
   "mimetype": "text/x-python",
   "name": "python",
   "nbconvert_exporter": "python",
   "pygments_lexer": "ipython3",
   "version": "3.6.6"
  }
 },
 "nbformat": 4,
 "nbformat_minor": 2
}
